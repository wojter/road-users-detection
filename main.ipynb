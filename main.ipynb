{
  "nbformat": 4,
  "nbformat_minor": 0,
  "metadata": {
    "colab": {
      "provenance": [],
      "authorship_tag": "ABX9TyM6gi02ugnQDLajnxKMFXt0",
      "include_colab_link": true
    },
    "kernelspec": {
      "name": "python3",
      "display_name": "Python 3"
    },
    "language_info": {
      "name": "python"
    },
    "gpuClass": "standard"
  },
  "cells": [
    {
      "cell_type": "markdown",
      "metadata": {
        "id": "view-in-github",
        "colab_type": "text"
      },
      "source": [
        "<a href=\"https://colab.research.google.com/github/wojter/road-users-detection/blob/master/main.ipynb\" target=\"_parent\"><img src=\"https://colab.research.google.com/assets/colab-badge.svg\" alt=\"Open In Colab\"/></a>"
      ]
    },
    {
      "cell_type": "markdown",
      "source": [
        "# 1. Config"
      ],
      "metadata": {
        "id": "sPV8OfXSMQ6H"
      }
    },
    {
      "cell_type": "markdown",
      "source": [],
      "metadata": {
        "id": "0zyNL441NXXj"
      }
    },
    {
      "cell_type": "code",
      "source": [
        "import os"
      ],
      "metadata": {
        "id": "gqid_FbVMw1d"
      },
      "execution_count": 1,
      "outputs": []
    },
    {
      "cell_type": "code",
      "source": [
        "# local or colab\n",
        "drive_mode = True\n",
        "\n",
        "# images scaled and packed in archive of var name @IMAGES_ARCHIVE\n",
        "archived_images = True"
      ],
      "metadata": {
        "id": "MvEdW7GTOlr6"
      },
      "execution_count": 2,
      "outputs": []
    },
    {
      "cell_type": "code",
      "execution_count": 24,
      "metadata": {
        "id": "4dy8PDo9Ljw7"
      },
      "outputs": [],
      "source": [
        "# folders\n",
        "\n",
        "# paths to images on instance \n",
        "IMAGES = os.path.join('images')\n",
        "IMAGES_TEST = os.path.join('images', 'test')\n",
        "IMAGES_TRAIN = os.path.join('images', 'train')\n",
        "\n",
        "\n",
        "DRIVE_NAME = os.path.join('drive')\n",
        "GOOGLE_DRIVE = os.path.join(DRIVE_NAME, 'MyDrive', 'COLAB')\n",
        "GOOGLE_DRIVE_IMAGES = os.path.join(GOOGLE_DRIVE, 'projects','images')\n",
        "\n",
        "IMAGES_ARCHIVE = os.path.join('archive.tar.gz')\n",
        "GOOGLE_DRIVE_IMG_ARCHIVE = os.path.join(DRIVE_NAME, 'projects', IMAGES_ARCHIVE)\n"
      ]
    },
    {
      "cell_type": "code",
      "source": [
        "if drive_mode:\n",
        "  from google.colab import drive\n",
        "  drive.mount(DRIVE_NAME)"
      ],
      "metadata": {
        "id": "lLAtYd6XMkWm"
      },
      "execution_count": null,
      "outputs": []
    },
    {
      "cell_type": "code",
      "source": [
        "!nvidia-smi"
      ],
      "metadata": {
        "id": "74dKdPdVNKl9"
      },
      "execution_count": null,
      "outputs": []
    },
    {
      "cell_type": "code",
      "source": [
        "# copy images\n",
        "if drive_mode and archived_images:\n",
        "  !cp drive/MyDrive/projects/archive.tar.gz ./\n",
        "elif drive_mode and not archived_images:\n",
        "  !cp -r {GOOGLE_DRIVE_IMAGES} {IMAGES}"
      ],
      "metadata": {
        "id": "pRSyi2mRO6Qq"
      },
      "execution_count": 22,
      "outputs": []
    },
    {
      "cell_type": "code",
      "execution_count": 26,
      "metadata": {
        "id": "7YmN51oIS0ga"
      },
      "outputs": [],
      "source": [
        "# unpack images if archived\n",
        "if drive_mode and archived_images:\n",
        "  if os.path.exists(GOOGLE_DRIVE_IMG_ARCHIVE) and not os.path.exists(IMAGES):\n",
        "    !tar -zxvf {IMAGES_ARCHIVE}"
      ]
    }
  ]
}